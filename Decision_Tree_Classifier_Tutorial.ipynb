{
  "cells": [
    {
      "metadata": {
        "id": "pN0fFz2qHQlQ"
      },
      "cell_type": "markdown",
      "source": [
        "<a class=\"anchor\" id=\"0\"></a>\n",
        "# **Decision Tree Classifier Tutorial with Python**\n",
        "\n",
        "\n",
        "Hello friends,\n",
        "\n",
        "In this kernel, I build a Decision Tree Classifier to predict the safety of the car. I build two models, one with criterion `gini index` and another one with criterion `entropy`. I implement Decision Tree Classification with Python and Scikit-Learn."
      ]
    },
    {
      "metadata": {
        "id": "MQCpQLA-HQlS"
      },
      "cell_type": "markdown",
      "source": [
        "# **1. Introduction to Decision Tree algorithm** <a class=\"anchor\" id=\"1\"></a>\n",
        "\n",
        "\n",
        "\n",
        "A Decision Tree algorithm is one of the most popular machine learning algorithms. It uses a tree like structure and their possible combinations to solve a particular problem. It belongs to the class of supervised learning algorithms where it can be used for both classification and regression purposes.\n",
        "\n",
        "\n",
        "A decision tree is a structure that includes a root node, branches, and leaf nodes. Each internal node denotes a test on an attribute, each branch denotes the outcome of a test, and each leaf node holds a class label. The topmost node in the tree is the root node.\n",
        "\n",
        "\n",
        "We make some assumptions while implementing the Decision-Tree algorithm. These are listed below:-\n",
        "\n",
        "1. At the beginning, the whole training set is considered as the root.\n",
        "2. Feature values need to be categorical. If the values are continuous then they are discretized prior to building the model.\n",
        "3. Records are distributed recursively on the basis of attribute values.\n",
        "4. Order to placing attributes as root or internal node of the tree is done by using some statistical approach.\n",
        "\n",
        "\n",
        "I will describe Decision Tree terminology in later section.\n"
      ]
    },
    {
      "metadata": {
        "id": "zUQPFeJOHQlS"
      },
      "cell_type": "markdown",
      "source": [
        "# **2. Classification and Regression Trees (CART)** <a class=\"anchor\" id=\"2\"></a>\n",
        "\n",
        "\n",
        "\n",
        "Nowadays, Decision Tree algorithm is known by its modern name **CART** which stands for **Classification and Regression Trees**. Classification and Regression Trees or **CART** is a term introduced by Leo Breiman to refer to Decision Tree algorithms that can be used for classification and regression modeling problems.\n",
        "\n",
        "\n",
        "The CART algorithm provides a foundation for other important algorithms like bagged decision trees, random forest and boosted decision trees. In this kernel, I will solve a classification problem. So, I will refer the algorithm also as Decision Tree Classification problem.\n"
      ]
    },
    {
      "metadata": {
        "id": "vb6QtPdlHQlS"
      },
      "cell_type": "markdown",
      "source": [
        "# **3. Decision Tree algorithm terminology** <a class=\"anchor\" id=\"3\"></a>\n",
        "\n",
        "\n",
        "\n",
        "- In a Decision Tree algorithm, there is a tree like structure in which each internal node represents a test on an attribute, each branch represents the outcome of the test, and each leaf node represents a class label. The paths from the root node to leaf node represent classification rules.\n",
        "\n",
        "- We can see that there is some terminology involved in Decision Tree algorithm. The terms involved in Decision Tree algorithm are as follows:-\n",
        "\n",
        "\n",
        "## **Root Node**\n",
        "\n",
        "- It represents the entire population or sample. This further gets divided into two or more homogeneous sets.\n",
        "\n",
        "\n",
        "## **Splitting**\n",
        "\n",
        "- It is a process of dividing a node into two or more sub-nodes.\n",
        "\n",
        "\n",
        "## Decision Node\n",
        "\n",
        "- When a sub-node splits into further sub-nodes, then it is called a decision node.\n",
        "\n",
        "\n",
        "## Leaf/Terminal Node\n",
        "\n",
        "- Nodes that do not split are called Leaf or Terminal nodes.\n",
        "\n",
        "\n",
        "## Pruning\n",
        "\n",
        "- When we remove sub-nodes of a decision node, this process is called pruning. It is the opposite process of splitting.\n",
        "\n",
        "\n",
        "## Branch/Sub-Tree\n",
        "\n",
        "- A sub-section of an entire tree is called a branch or sub-tree.\n",
        "\n",
        "\n",
        "## Parent and Child Node\n",
        "\n",
        "- A node, which is divided into sub-nodes is called the parent node of sub-nodes where sub-nodes are the children of a parent node.\n",
        "\n",
        "\n",
        "The above terminology is represented clearly in the following diagram:-"
      ]
    },
    {
      "metadata": {
        "id": "fMPM_l9NHQlS"
      },
      "cell_type": "markdown",
      "source": [
        "### Decision-Tree terminology\n",
        "\n",
        "![Decision-Tree terminology](https://gdcoder.com/content/images/2019/05/Screen-Shot-2019-05-18-at-03.40.41.png)"
      ]
    },
    {
      "metadata": {
        "id": "ceDR2SySHQlT"
      },
      "cell_type": "markdown",
      "source": [
        "# **4. Decision Tree algorithm intuition** <a class=\"anchor\" id=\"4\"></a>\n",
        "\n",
        "\n",
        "\n",
        "The Decision-Tree algorithm is one of the most frequently and widely used supervised machine learning algorithms that can be used for both classification and regression tasks. The intuition behind the Decision-Tree algorithm is very simple to understand.\n",
        "\n",
        "\n",
        "The Decision Tree algorithm intuition is as follows:-\n",
        "\n",
        "\n",
        "1.\tFor each attribute in the dataset, the Decision-Tree algorithm forms a node. The most important attribute is placed at the root node.\n",
        "\n",
        "2.\tFor evaluating the task in hand, we start at the root node and we work our way down the tree by following the corresponding node that meets our condition or decision.\n",
        "\n",
        "3.\tThis process continues until a leaf node is reached. It contains the prediction or the outcome of the Decision Tree.\n"
      ]
    },
    {
      "metadata": {
        "id": "D7v-5nBrHQlT"
      },
      "cell_type": "markdown",
      "source": [
        "# **5. Attribute selection measures** <a class=\"anchor\" id=\"5\"></a>\n",
        "\n",
        "\n",
        "\n",
        "\n",
        "The primary challenge in the Decision Tree implementation is to identify the attributes which we consider as the root node and each level. This process is known as the **attributes selection**. There are different attributes selection measure to identify the attribute which can be considered as the root node at each level.\n",
        "\n",
        "\n",
        "There are 2 popular attribute selection measures. They are as follows:-\n",
        "\n",
        "\n",
        "- **Information gain**\n",
        "\n",
        "- **Gini index**\n",
        "\n",
        "\n",
        "While using **Information gain** as a criterion, we assume attributes to be categorical and for **Gini index** attributes are assumed to be continuous. These attribute selection measures are described below.\n"
      ]
    },
    {
      "metadata": {
        "id": "lYsprMuLHQlT"
      },
      "cell_type": "markdown",
      "source": [
        "## **5.1 Information gain** <a class=\"anchor\" id=\"5.1\"></a>\n",
        "\n",
        "\n",
        "\n",
        "By using information gain as a criterion, we try to estimate the information contained by each attribute. To understand the concept of Information Gain, we need to know another concept called **Entropy**.\n",
        "\n",
        "## **Entropy**\n",
        "\n",
        "Entropy measures the impurity in the given dataset. In Physics and Mathematics, entropy is referred to as the randomness or uncertainty of a random variable X. In information theory, it refers to the impurity in a group of examples. **Information gain** is the decrease in entropy. Information gain computes the difference between entropy before split and average entropy after split of the dataset based on given attribute values.\n",
        "\n",
        "Entropy is represented by the following formula:-\n",
        "\n",
        "\n"
      ]
    },
    {
      "metadata": {
        "id": "vIzhK_wdHQlT"
      },
      "cell_type": "markdown",
      "source": [
        "![Entropy](http://www.learnbymarketing.com/wp-content/uploads/2016/02/entropy-formula.png)\n",
        "\n",
        "\n",
        "\n",
        "Here, **c** is the number of classes and **pi** is the probability associated with the ith class."
      ]
    },
    {
      "metadata": {
        "id": "kHA_J4RVHQlT"
      },
      "cell_type": "markdown",
      "source": [
        "The ID3 (Iterative Dichotomiser) Decision Tree algorithm uses entropy to calculate information gain. So, by calculating decrease in **entropy measure** of each attribute we can calculate their information gain. The attribute with the highest information gain is chosen as the splitting attribute at the node."
      ]
    },
    {
      "metadata": {
        "id": "XZkmyD2vHQlT"
      },
      "cell_type": "markdown",
      "source": [
        "## **5.2 Gini index** <a class=\"anchor\" id=\"5.2\"></a>\n",
        "\n",
        "\n",
        "\n",
        "\n",
        "Another attribute selection measure that **CART (Categorical and Regression Trees)** uses is the **Gini index**. It uses the Gini method to create split points.\n",
        "\n",
        "\n",
        "Gini index can be represented with the following diagram:-"
      ]
    },
    {
      "metadata": {
        "id": "bs2NtRQZHQlT"
      },
      "cell_type": "markdown",
      "source": [
        "## **Gini index**\n",
        "\n",
        "![Gini index](https://encrypted-tbn0.gstatic.com/images?q=tbn:ANd9GcRzYHkcmZKKp2sJN1HpHvw-NgqbD9EnapnbXozXRgajrSGvEnYy&s)\n",
        "\n",
        "\n",
        "Here, again **c** is the number of classes and **pi** is the probability associated with the ith class."
      ]
    },
    {
      "metadata": {
        "id": "7Nf8lo0jHQlT"
      },
      "cell_type": "markdown",
      "source": [
        "Gini index says, if we randomly select two items from a population, they must be of the same class and probability for this is 1 if the population is pure.\n",
        "\n",
        "It works with the categorical target variable “Success” or “Failure”. It performs only binary splits. The higher the value of Gini, higher the homogeneity. CART (Classification and Regression Tree) uses the Gini method to create binary splits.\n",
        "\n",
        "Steps to Calculate Gini for a split\n",
        "\n",
        "1.\tCalculate Gini for sub-nodes, using formula sum of the square of probability for success and failure (p^2+q^2).\n",
        "\n",
        "2.\tCalculate Gini for split using weighted Gini score of each node of that split.\n",
        "\n",
        "\n",
        "In case of a discrete-valued attribute, the subset that gives the minimum gini index for that chosen is selected as a splitting attribute. In the case of continuous-valued attributes, the strategy is to select each pair of adjacent values as a possible split-point and point with smaller gini index chosen as the splitting point. The attribute with minimum Gini index is chosen as the splitting attribute."
      ]
    },
    {
      "metadata": {
        "id": "VUv4RWrBHQlU"
      },
      "cell_type": "markdown",
      "source": [
        "# **6. Overfitting in Decision Tree algorithm** <a class=\"anchor\" id=\"6\"></a>\n",
        "\n",
        "\n",
        "\n",
        "Overfitting is a practical problem while building a Decision-Tree model. The problem of overfitting is considered when the algorithm continues to go deeper and deeper to reduce the training-set error but results with an increased test-set error. So, accuracy of prediction for our model goes down. It generally happens when we build many branches due to outliers and irregularities in data.\n",
        "\n",
        "Two approaches which can be used to avoid overfitting are as follows:-\n",
        "\n",
        "- Pre-Pruning\n",
        "\n",
        "- Post-Pruning\n",
        "\n",
        "\n",
        "## **Pre-Pruning**\n",
        "\n",
        "In pre-pruning, we stop the tree construction a bit early. We prefer not to split a node if its goodness measure is below a threshold value. But it is difficult to choose an appropriate stopping point.\n",
        "\n",
        "\n",
        "## **Post-Pruning**\n",
        "\n",
        "In post-pruning, we go deeper and deeper in the tree to build a complete tree. If the tree shows the overfitting problem then pruning is done as a post-pruning step. We use the cross-validation data to check the effect of our pruning. Using cross-validation data, we test whether expanding a node will result in improve or not. If it shows an improvement, then we can continue by expanding that node. But if it shows a reduction in accuracy then it should not be expanded. So, the node should be converted to a leaf node."
      ]
    },
    {
      "metadata": {
        "id": "uUU09uYAHQlU"
      },
      "cell_type": "markdown",
      "source": [
        "# **7. Import libraries** <a class=\"anchor\" id=\"7\"></a>\n",
        "\n",
        "[Table of Contents](#0.1)"
      ]
    },
    {
      "metadata": {
        "trusted": true,
        "id": "4JOWh04ZHQlU"
      },
      "cell_type": "code",
      "source": [
        "\n",
        "import numpy as np # linear algebra\n",
        "import pandas as pd # data processing, CSV file I/O (e.g. pd.read_csv)\n",
        "import matplotlib.pyplot as plt # data visualization\n",
        "import seaborn as sns # statistical data visualization\n",
        "%matplotlib inline\n",
        "\n",
        "\n",
        "import os\n",
        "for dirname, _, filenames in os.walk('/kaggle/input'):\n",
        "    for filename in filenames:\n",
        "        print(os.path.join(dirname, filename))\n",
        "\n"
      ],
      "execution_count": null,
      "outputs": []
    },
    {
      "metadata": {
        "trusted": true,
        "id": "CPgGGjAqHQlU"
      },
      "cell_type": "code",
      "source": [
        "import warnings\n",
        "\n",
        "warnings.filterwarnings('ignore')"
      ],
      "execution_count": null,
      "outputs": []
    },
    {
      "metadata": {
        "id": "9udR50t5HQlU"
      },
      "cell_type": "markdown",
      "source": [
        "# **8. Import dataset** <a class=\"anchor\" id=\"8\"></a>\n",
        "\n",
        "[Table of Contents](#0.1)"
      ]
    },
    {
      "metadata": {
        "trusted": true,
        "id": "XZOF5appHQlU"
      },
      "cell_type": "code",
      "source": [
        "data = '/kaggle/input/car-evaluation-data-set/car_evaluation.csv'\n",
        "\n",
        "df = pd.read_csv(data, header=None)"
      ],
      "execution_count": null,
      "outputs": []
    },
    {
      "metadata": {
        "id": "ESdHXh1LHQlU"
      },
      "cell_type": "markdown",
      "source": [
        "# **9. Exploratory data analysis** <a class=\"anchor\" id=\"9\"></a>\n",
        "\n",
        "\n",
        "\n",
        "\n",
        "Now, I will explore the data to gain insights about the data."
      ]
    },
    {
      "metadata": {
        "trusted": true,
        "id": "TaaPle5tHQlU"
      },
      "cell_type": "code",
      "source": [
        "# view dimensions of dataset\n",
        "\n",
        "df.shape"
      ],
      "execution_count": null,
      "outputs": []
    },
    {
      "metadata": {
        "id": "boOD0RWGHQlU"
      },
      "cell_type": "markdown",
      "source": [
        "We can see that there are 1728 instances and 7 variables in the data set."
      ]
    },
    {
      "metadata": {
        "id": "8UWkdLQsHQlU"
      },
      "cell_type": "markdown",
      "source": [
        "### View top 5 rows of dataset"
      ]
    },
    {
      "metadata": {
        "scrolled": false,
        "trusted": true,
        "id": "GqjNlQc5HQlU"
      },
      "cell_type": "code",
      "source": [
        "# preview the dataset\n",
        "\n",
        "df.head()"
      ],
      "execution_count": null,
      "outputs": []
    },
    {
      "metadata": {
        "id": "_bzXcw9LHQlU"
      },
      "cell_type": "markdown",
      "source": [
        "### Rename column names\n",
        "\n",
        "We can see that the dataset does not have proper column names. The columns are merely labelled as 0,1,2.... and so on. We should give proper names to the columns. I will do it as follows:-"
      ]
    },
    {
      "metadata": {
        "trusted": true,
        "id": "f22WbljkHQlU"
      },
      "cell_type": "code",
      "source": [
        "col_names = ['buying', 'maint', 'doors', 'persons', 'lug_boot', 'safety', 'class']\n",
        "\n",
        "\n",
        "df.columns = col_names\n",
        "\n",
        "col_names"
      ],
      "execution_count": null,
      "outputs": []
    },
    {
      "metadata": {
        "trusted": true,
        "id": "BrlBUpXOHQlV"
      },
      "cell_type": "code",
      "source": [
        "# let's again preview the dataset\n",
        "\n",
        "df.head()"
      ],
      "execution_count": null,
      "outputs": []
    },
    {
      "metadata": {
        "id": "FD9METqOHQlV"
      },
      "cell_type": "markdown",
      "source": [
        "We can see that the column names are renamed. Now, the columns have meaningful names."
      ]
    },
    {
      "metadata": {
        "id": "Mh02lkl9HQlV"
      },
      "cell_type": "markdown",
      "source": [
        "### View summary of dataset"
      ]
    },
    {
      "metadata": {
        "trusted": true,
        "id": "CP2BYxi4HQlV"
      },
      "cell_type": "code",
      "source": [
        "df.info()"
      ],
      "execution_count": null,
      "outputs": []
    },
    {
      "metadata": {
        "id": "8S-Cla4CHQlV"
      },
      "cell_type": "markdown",
      "source": [
        "### Frequency distribution of values in variables\n",
        "\n",
        "Now, I will check the frequency counts of categorical variables."
      ]
    },
    {
      "metadata": {
        "trusted": true,
        "id": "tzatmrYeHQlV"
      },
      "cell_type": "code",
      "source": [
        "col_names = ['buying', 'maint', 'doors', 'persons', 'lug_boot', 'safety', 'class']\n",
        "\n",
        "\n",
        "for col in col_names:\n",
        "\n",
        "    print(df[col].value_counts())\n"
      ],
      "execution_count": null,
      "outputs": []
    },
    {
      "metadata": {
        "id": "_wpySkrfHQlV"
      },
      "cell_type": "markdown",
      "source": [
        "We can see that the `doors` and `persons` are categorical in nature. So, I will treat them as categorical variables."
      ]
    },
    {
      "metadata": {
        "id": "y44CHWP2HQlV"
      },
      "cell_type": "markdown",
      "source": [
        "### Summary of variables\n",
        "\n",
        "\n",
        "- There are 7 variables in the dataset. All the variables are of categorical data type.\n",
        "\n",
        "\n",
        "- These are given by `buying`, `maint`, `doors`, `persons`, `lug_boot`, `safety` and `class`.\n",
        "\n",
        "\n",
        "- `class` is the target variable."
      ]
    },
    {
      "metadata": {
        "id": "8cQIufSKHQlV"
      },
      "cell_type": "markdown",
      "source": [
        "### Explore `class` variable"
      ]
    },
    {
      "metadata": {
        "trusted": true,
        "id": "6N0ObjtpHQlV"
      },
      "cell_type": "code",
      "source": [
        "df['class'].value_counts()"
      ],
      "execution_count": null,
      "outputs": []
    },
    {
      "metadata": {
        "id": "fRuDK04cHQlY"
      },
      "cell_type": "markdown",
      "source": [
        "The `class` target variable is ordinal in nature."
      ]
    },
    {
      "metadata": {
        "id": "Ip6tDxK8HQlY"
      },
      "cell_type": "markdown",
      "source": [
        "### Missing values in variables"
      ]
    },
    {
      "metadata": {
        "trusted": true,
        "id": "W74w_EDcHQlY"
      },
      "cell_type": "code",
      "source": [
        "# check missing values in variables\n",
        "\n",
        "df.isnull().sum()"
      ],
      "execution_count": null,
      "outputs": []
    },
    {
      "metadata": {
        "id": "zD_z4IYlHQlY"
      },
      "cell_type": "markdown",
      "source": [
        "We can see that there are no missing values in the dataset. I have checked the frequency distribution of values previously. It also confirms that there are no missing values in the dataset."
      ]
    },
    {
      "metadata": {
        "id": "ypwh3XuiHQlY"
      },
      "cell_type": "markdown",
      "source": [
        "# **10. Declare feature vector and target variable** <a class=\"anchor\" id=\"10\"></a>\n"
      ]
    },
    {
      "metadata": {
        "trusted": true,
        "id": "m8ni4UgOHQlY"
      },
      "cell_type": "code",
      "source": [
        "X = df.drop(['class'], axis=1)\n",
        "\n",
        "y = df['class']"
      ],
      "execution_count": null,
      "outputs": []
    },
    {
      "metadata": {
        "id": "8iQgTHKKHQlY"
      },
      "cell_type": "markdown",
      "source": [
        "# **11. Split data into separate training and test set** <a class=\"anchor\" id=\"11\"></a>\n",
        "\n"
      ]
    },
    {
      "metadata": {
        "trusted": true,
        "id": "xAR4L1BCHQlY"
      },
      "cell_type": "code",
      "source": [
        "# split X and y into training and testing sets\n",
        "\n",
        "from sklearn.model_selection import train_test_split\n",
        "\n",
        "X_train, X_test, y_train, y_test = train_test_split(X, y, test_size = 0.33, random_state = 42)\n"
      ],
      "execution_count": null,
      "outputs": []
    },
    {
      "metadata": {
        "trusted": true,
        "id": "RKXIguIMHQlY"
      },
      "cell_type": "code",
      "source": [
        "# check the shape of X_train and X_test\n",
        "\n",
        "X_train.shape, X_test.shape"
      ],
      "execution_count": null,
      "outputs": []
    },
    {
      "metadata": {
        "id": "RioBibh4HQlY"
      },
      "cell_type": "markdown",
      "source": [
        "# **12. Feature Engineering** <a class=\"anchor\" id=\"12\"></a>\n",
        "\n",
        "\n",
        "\n",
        "**Feature Engineering** is the process of transforming raw data into useful features that help us to understand our model better and increase its predictive power. I will carry out feature engineering on different types of variables.\n",
        "\n",
        "\n",
        "First, I will check the data types of variables again."
      ]
    },
    {
      "metadata": {
        "trusted": true,
        "id": "ipB_OFrIHQlY"
      },
      "cell_type": "code",
      "source": [
        "# check data types in X_train\n",
        "\n",
        "X_train.dtypes"
      ],
      "execution_count": null,
      "outputs": []
    },
    {
      "metadata": {
        "id": "G0D3grCZHQlY"
      },
      "cell_type": "markdown",
      "source": [
        "### Encode categorical variables\n",
        "\n",
        "\n",
        "Now, I will encode the categorical variables."
      ]
    },
    {
      "metadata": {
        "trusted": true,
        "id": "Wj9AlmhEHQlZ"
      },
      "cell_type": "code",
      "source": [
        "X_train.head()"
      ],
      "execution_count": null,
      "outputs": []
    },
    {
      "metadata": {
        "id": "Uuat8EvWHQlZ"
      },
      "cell_type": "markdown",
      "source": [
        "We can see that all  the variables are ordinal categorical data type."
      ]
    },
    {
      "metadata": {
        "trusted": true,
        "id": "QdSTx4E9HQlZ"
      },
      "cell_type": "code",
      "source": [
        "# import category encoders\n",
        "\n",
        "import category_encoders as ce"
      ],
      "execution_count": null,
      "outputs": []
    },
    {
      "metadata": {
        "trusted": true,
        "id": "QKE-R0LzHQlZ"
      },
      "cell_type": "code",
      "source": [
        "# encode variables with ordinal encoding\n",
        "\n",
        "encoder = ce.OrdinalEncoder(cols=['buying', 'maint', 'doors', 'persons', 'lug_boot', 'safety'])\n",
        "\n",
        "\n",
        "X_train = encoder.fit_transform(X_train)\n",
        "\n",
        "X_test = encoder.transform(X_test)"
      ],
      "execution_count": null,
      "outputs": []
    },
    {
      "metadata": {
        "trusted": true,
        "id": "_Oa_6ARrHQlZ"
      },
      "cell_type": "code",
      "source": [
        "X_train.head()"
      ],
      "execution_count": null,
      "outputs": []
    },
    {
      "metadata": {
        "trusted": true,
        "id": "wf2CQyq4HQlZ"
      },
      "cell_type": "code",
      "source": [
        "X_test.head()"
      ],
      "execution_count": null,
      "outputs": []
    },
    {
      "metadata": {
        "id": "-sCF1ObKHQlZ"
      },
      "cell_type": "markdown",
      "source": [
        "We now have training and test set ready for model building."
      ]
    },
    {
      "metadata": {
        "id": "SaoBlg4EHQlZ"
      },
      "cell_type": "markdown",
      "source": [
        "# **13. Decision Tree Classifier with criterion gini index** <a class=\"anchor\" id=\"13\"></a>\n",
        "\n"
      ]
    },
    {
      "metadata": {
        "trusted": true,
        "id": "qmh1Ky3pHQlZ"
      },
      "cell_type": "code",
      "source": [
        "# import DecisionTreeClassifier\n",
        "\n",
        "from sklearn.tree import DecisionTreeClassifier\n"
      ],
      "execution_count": null,
      "outputs": []
    },
    {
      "metadata": {
        "trusted": true,
        "id": "qBlY4repHQlZ"
      },
      "cell_type": "code",
      "source": [
        "# instantiate the DecisionTreeClassifier model with criterion gini index\n",
        "\n",
        "clf_gini = DecisionTreeClassifier(criterion='gini', max_depth=3, random_state=0)\n",
        "\n",
        "\n",
        "# fit the model\n",
        "clf_gini.fit(X_train, y_train)\n"
      ],
      "execution_count": null,
      "outputs": []
    },
    {
      "metadata": {
        "id": "mzQnmucsHQlZ"
      },
      "cell_type": "markdown",
      "source": [
        "### Predict the Test set results with criterion gini index"
      ]
    },
    {
      "metadata": {
        "trusted": true,
        "id": "iatC-mz3HQlZ"
      },
      "cell_type": "code",
      "source": [
        "y_pred_gini = clf_gini.predict(X_test)\n"
      ],
      "execution_count": null,
      "outputs": []
    },
    {
      "metadata": {
        "id": "gLdEUJnJHQlZ"
      },
      "cell_type": "markdown",
      "source": [
        "### Check accuracy score with criterion gini index"
      ]
    },
    {
      "metadata": {
        "trusted": true,
        "id": "dmEI__qBHQlZ"
      },
      "cell_type": "code",
      "source": [
        "from sklearn.metrics import accuracy_score\n",
        "\n",
        "print('Model accuracy score with criterion gini index: {0:0.4f}'. format(accuracy_score(y_test, y_pred_gini)))"
      ],
      "execution_count": null,
      "outputs": []
    },
    {
      "metadata": {
        "id": "qaea1rt3HQlZ"
      },
      "cell_type": "markdown",
      "source": [
        "Here, **y_test** are the true class labels and **y_pred_gini** are the predicted class labels in the test-set."
      ]
    },
    {
      "metadata": {
        "id": "uFwdzFGtHQlZ"
      },
      "cell_type": "markdown",
      "source": [
        "### Compare the train-set and test-set accuracy\n",
        "\n",
        "\n",
        "Now, I will compare the train-set and test-set accuracy to check for overfitting."
      ]
    },
    {
      "metadata": {
        "trusted": true,
        "id": "hGs_Yh3fHQla"
      },
      "cell_type": "code",
      "source": [
        "y_pred_train_gini = clf_gini.predict(X_train)\n",
        "\n",
        "y_pred_train_gini"
      ],
      "execution_count": null,
      "outputs": []
    },
    {
      "metadata": {
        "trusted": true,
        "id": "HBeCk39yHQla"
      },
      "cell_type": "code",
      "source": [
        "print('Training-set accuracy score: {0:0.4f}'. format(accuracy_score(y_train, y_pred_train_gini)))"
      ],
      "execution_count": null,
      "outputs": []
    },
    {
      "metadata": {
        "id": "qbreeF4gHQla"
      },
      "cell_type": "markdown",
      "source": [
        "### Check for overfitting and underfitting"
      ]
    },
    {
      "metadata": {
        "trusted": true,
        "id": "HYO_0kIQHQla"
      },
      "cell_type": "code",
      "source": [
        "# print the scores on training and test set\n",
        "\n",
        "print('Training set score: {:.4f}'.format(clf_gini.score(X_train, y_train)))\n",
        "\n",
        "print('Test set score: {:.4f}'.format(clf_gini.score(X_test, y_test)))"
      ],
      "execution_count": null,
      "outputs": []
    },
    {
      "metadata": {
        "id": "gqN4G6VJHQla"
      },
      "cell_type": "markdown",
      "source": [
        "Here, the training-set accuracy score is 0.7865 while the test-set accuracy to be 0.8021. These two values are quite comparable. So, there is no sign of overfitting.\n"
      ]
    },
    {
      "metadata": {
        "id": "vuQjwlVLHQla"
      },
      "cell_type": "markdown",
      "source": [
        "### Visualize decision-trees"
      ]
    },
    {
      "metadata": {
        "trusted": true,
        "id": "C2dKQAoPHQla"
      },
      "cell_type": "code",
      "source": [
        "plt.figure(figsize=(12,8))\n",
        "\n",
        "from sklearn import tree\n",
        "\n",
        "tree.plot_tree(clf_gini.fit(X_train, y_train))"
      ],
      "execution_count": null,
      "outputs": []
    },
    {
      "metadata": {
        "id": "HFCK5HWmHQla"
      },
      "cell_type": "markdown",
      "source": [
        "### Visualize decision-trees with graphviz"
      ]
    },
    {
      "metadata": {
        "trusted": true,
        "id": "GxDUoHotHQla"
      },
      "cell_type": "code",
      "source": [
        "import graphviz\n",
        "dot_data = tree.export_graphviz(clf_gini, out_file=None,\n",
        "                              feature_names=X_train.columns,\n",
        "                              class_names=y_train,\n",
        "                              filled=True, rounded=True,\n",
        "                              special_characters=True)\n",
        "\n",
        "graph = graphviz.Source(dot_data)\n",
        "\n",
        "graph"
      ],
      "execution_count": null,
      "outputs": []
    },
    {
      "metadata": {
        "id": "mNVj3HQwHQla"
      },
      "cell_type": "markdown",
      "source": [
        "# **14. Decision Tree Classifier with criterion entropy** <a class=\"anchor\" id=\"14\"></a>\n",
        "\n"
      ]
    },
    {
      "metadata": {
        "trusted": true,
        "id": "3fopIkO3HQla"
      },
      "cell_type": "code",
      "source": [
        "# instantiate the DecisionTreeClassifier model with criterion entropy\n",
        "\n",
        "clf_en = DecisionTreeClassifier(criterion='entropy', max_depth=3, random_state=0)\n",
        "\n",
        "\n",
        "# fit the model\n",
        "clf_en.fit(X_train, y_train)"
      ],
      "execution_count": null,
      "outputs": []
    },
    {
      "metadata": {
        "id": "ZXfOEKf3HQla"
      },
      "cell_type": "markdown",
      "source": [
        "### Predict the Test set results with criterion entropy"
      ]
    },
    {
      "metadata": {
        "trusted": true,
        "id": "OD_EDtC-HQla"
      },
      "cell_type": "code",
      "source": [
        "y_pred_en = clf_en.predict(X_test)"
      ],
      "execution_count": null,
      "outputs": []
    },
    {
      "metadata": {
        "id": "JS-wDc0qHQla"
      },
      "cell_type": "markdown",
      "source": [
        "### Check accuracy score with criterion entropy"
      ]
    },
    {
      "metadata": {
        "trusted": true,
        "id": "wT1s2LtkHQla"
      },
      "cell_type": "code",
      "source": [
        "from sklearn.metrics import accuracy_score\n",
        "\n",
        "print('Model accuracy score with criterion entropy: {0:0.4f}'. format(accuracy_score(y_test, y_pred_en)))"
      ],
      "execution_count": null,
      "outputs": []
    },
    {
      "metadata": {
        "id": "wzgUTV3CHQla"
      },
      "cell_type": "markdown",
      "source": [
        "### Compare the train-set and test-set accuracy\n",
        "\n",
        "\n",
        "Now, I will compare the train-set and test-set accuracy to check for overfitting."
      ]
    },
    {
      "metadata": {
        "trusted": true,
        "id": "WASVLH2pHQla"
      },
      "cell_type": "code",
      "source": [
        "y_pred_train_en = clf_en.predict(X_train)\n",
        "\n",
        "y_pred_train_en"
      ],
      "execution_count": null,
      "outputs": []
    },
    {
      "metadata": {
        "trusted": true,
        "id": "LddEgQC1HQlb"
      },
      "cell_type": "code",
      "source": [
        "print('Training-set accuracy score: {0:0.4f}'. format(accuracy_score(y_train, y_pred_train_en)))"
      ],
      "execution_count": null,
      "outputs": []
    },
    {
      "metadata": {
        "id": "wpaoNpKwHQlb"
      },
      "cell_type": "markdown",
      "source": [
        "### Check for overfitting and underfitting"
      ]
    },
    {
      "metadata": {
        "trusted": true,
        "id": "FCVFT9ObHQlb"
      },
      "cell_type": "code",
      "source": [
        "# print the scores on training and test set\n",
        "\n",
        "print('Training set score: {:.4f}'.format(clf_en.score(X_train, y_train)))\n",
        "\n",
        "print('Test set score: {:.4f}'.format(clf_en.score(X_test, y_test)))"
      ],
      "execution_count": null,
      "outputs": []
    },
    {
      "metadata": {
        "id": "tEKw0ONYHQlb"
      },
      "cell_type": "markdown",
      "source": [
        "We can see that the training-set score and test-set score is same as above. The training-set accuracy score is 0.7865 while the test-set accuracy to be 0.8021. These two values are quite comparable. So, there is no sign of overfitting.\n"
      ]
    },
    {
      "metadata": {
        "id": "E1cRVbDCHQlb"
      },
      "cell_type": "markdown",
      "source": [
        "### Visualize decision-trees"
      ]
    },
    {
      "metadata": {
        "trusted": true,
        "id": "zkcO8WpmHQlb"
      },
      "cell_type": "code",
      "source": [
        "plt.figure(figsize=(12,8))\n",
        "\n",
        "from sklearn import tree\n",
        "\n",
        "tree.plot_tree(clf_en.fit(X_train, y_train))"
      ],
      "execution_count": null,
      "outputs": []
    },
    {
      "metadata": {
        "id": "zCXv6YylHQlb"
      },
      "cell_type": "markdown",
      "source": [
        "### Visualize decision-trees with graphviz"
      ]
    },
    {
      "metadata": {
        "trusted": true,
        "id": "VWVxm4JkHQlb"
      },
      "cell_type": "code",
      "source": [
        "import graphviz\n",
        "dot_data = tree.export_graphviz(clf_en, out_file=None,\n",
        "                              feature_names=X_train.columns,\n",
        "                              class_names=y_train,\n",
        "                              filled=True, rounded=True,\n",
        "                              special_characters=True)\n",
        "\n",
        "graph = graphviz.Source(dot_data)\n",
        "\n",
        "graph"
      ],
      "execution_count": null,
      "outputs": []
    },
    {
      "metadata": {
        "id": "cOy38cytHQlb"
      },
      "cell_type": "markdown",
      "source": [
        "Now, based on the above analysis we can conclude that our classification model accuracy is very good. Our model is doing a very good job in terms of predicting the class labels.\n",
        "\n",
        "\n",
        "But, it does not give the underlying distribution of values. Also, it does not tell anything about the type of errors our classifer is making.\n",
        "\n",
        "\n",
        "We have another tool called `Confusion matrix` that comes to our rescue."
      ]
    },
    {
      "metadata": {
        "id": "_Qk4QvO5HQlb"
      },
      "cell_type": "markdown",
      "source": [
        "# **15. Confusion matrix** <a class=\"anchor\" id=\"15\"></a>\n",
        "\n",
        "\n",
        "\n",
        "\n",
        "A confusion matrix is a tool for summarizing the performance of a classification algorithm. A confusion matrix will give us a clear picture of classification model performance and the types of errors produced by the model. It gives us a summary of correct and incorrect predictions broken down by each category. The summary is represented in a tabular form.\n",
        "\n",
        "\n",
        "Four types of outcomes are possible while evaluating a classification model performance. These four outcomes are described below:-\n",
        "\n",
        "\n",
        "**True Positives (TP)** – True Positives occur when we predict an observation belongs to a certain class and the observation actually belongs to that class.\n",
        "\n",
        "\n",
        "**True Negatives (TN)** – True Negatives occur when we predict an observation does not belong to a certain class and the observation actually does not belong to that class.\n",
        "\n",
        "\n",
        "**False Positives (FP)** – False Positives occur when we predict an observation belongs to a    certain class but the observation actually does not belong to that class. This type of error is called **Type I error.**\n",
        "\n",
        "\n",
        "\n",
        "**False Negatives (FN)** – False Negatives occur when we predict an observation does not belong to a certain class but the observation actually belongs to that class. This is a very serious error and it is called **Type II error.**\n",
        "\n",
        "\n",
        "\n",
        "These four outcomes are summarized in a confusion matrix given below.\n"
      ]
    },
    {
      "metadata": {
        "trusted": true,
        "id": "uMH7QU0mHQlb"
      },
      "cell_type": "code",
      "source": [
        "# Print the Confusion Matrix and slice it into four pieces\n",
        "\n",
        "from sklearn.metrics import confusion_matrix\n",
        "\n",
        "cm = confusion_matrix(y_test, y_pred_en)\n",
        "\n",
        "print('Confusion matrix\\n\\n', cm)\n",
        "\n"
      ],
      "execution_count": null,
      "outputs": []
    },
    {
      "metadata": {
        "id": "BMjD73jKHQlb"
      },
      "cell_type": "markdown",
      "source": [
        "# **16. Classification Report** <a class=\"anchor\" id=\"16\"></a>\n",
        "\n",
        "\n",
        "\n",
        "**Classification report** is another way to evaluate the classification model performance. It displays the  **precision**, **recall**, **f1** and **support** scores for the model. I have described these terms in later.\n",
        "\n",
        "We can print a classification report as follows:-"
      ]
    },
    {
      "metadata": {
        "scrolled": true,
        "trusted": true,
        "id": "Z15nL56CHQlb"
      },
      "cell_type": "code",
      "source": [
        "from sklearn.metrics import classification_report\n",
        "\n",
        "print(classification_report(y_test, y_pred_en))"
      ],
      "execution_count": null,
      "outputs": []
    },
    {
      "metadata": {
        "id": "BYIGT82bHQlb"
      },
      "cell_type": "markdown",
      "source": [
        "# **17. Results and conclusion** <a class=\"anchor\" id=\"17\"></a>\n",
        "\n",
        "\n",
        "\n",
        "\n",
        "1.\tIn this project, I build a Decision-Tree Classifier model to predict the safety of the car. I build two models, one with criterion `gini index` and another one with criterion `entropy`. The model yields a very good performance as indicated by the model accuracy in both the cases which was found to be 0.8021.\n",
        "2.\tIn the model with criterion `gini index`, the training-set accuracy score is 0.7865 while the test-set accuracy to be 0.8021. These two values are quite comparable. So, there is no sign of overfitting.\n",
        "3.\tSimilarly, in the model with criterion `entropy`, the training-set accuracy score is 0.7865 while the test-set accuracy to be 0.8021.We get the same values as in the case with criterion `gini`. So, there is no sign of overfitting.\n",
        "4.\tIn both the cases, the training-set and test-set accuracy score is the same. It may happen because of small dataset.\n",
        "5.\tThe confusion matrix and classification report yields very good model performance."
      ]
    }
  ],
  "metadata": {
    "kernelspec": {
      "display_name": "Python 3",
      "language": "python",
      "name": "python3"
    },
    "language_info": {
      "codemirror_mode": {
        "name": "ipython",
        "version": 3
      },
      "file_extension": ".py",
      "mimetype": "text/x-python",
      "name": "python",
      "nbconvert_exporter": "python",
      "pygments_lexer": "ipython3",
      "version": "3.7.0"
    },
    "colab": {
      "name": "Decision-Tree Classifier Tutorial ",
      "provenance": []
    }
  },
  "nbformat": 4,
  "nbformat_minor": 0
}