{
 "cells": [
  {
   "cell_type": "code",
   "execution_count": 1,
   "metadata": {},
   "outputs": [],
   "source": [
    "import numpy as np"
   ]
  },
  {
   "cell_type": "code",
   "execution_count": 5,
   "metadata": {},
   "outputs": [
    {
     "name": "stdout",
     "output_type": "stream",
     "text": [
      "[1, 2, 3, 4, 5, 6, 7]\n",
      "1\n",
      "2\n",
      "[2, 3]\n",
      "7\n",
      "<class 'list'>\n"
     ]
    }
   ],
   "source": [
    "#Ordinary python\n",
    "a = [1,2,3,4,5,6,7]\n",
    "\n",
    "print(a)\n",
    "print(a[0])\n",
    "print(a[1])\n",
    "print(a[1:3])\n",
    "print(a[-1])\n",
    "print(type(a))"
   ]
  },
  {
   "cell_type": "code",
   "execution_count": 6,
   "metadata": {},
   "outputs": [
    {
     "name": "stdout",
     "output_type": "stream",
     "text": [
      "[1 2 3 4 4]\n",
      "1\n",
      "2\n",
      "[2 3]\n",
      "4\n",
      "<class 'numpy.ndarray'>\n"
     ]
    }
   ],
   "source": [
    "#Numpy is in C and is different \n",
    "a=np.array([1,2,3,4,4])\n",
    "print(a)\n",
    "print(a[0])\n",
    "print(a[1])\n",
    "print(a[1:3])\n",
    "print(a[-1])\n",
    "print(type(a))\n"
   ]
  },
  {
   "cell_type": "code",
   "execution_count": 20,
   "metadata": {},
   "outputs": [
    {
     "name": "stdout",
     "output_type": "stream",
     "text": [
      "(2, 3, 3)\n",
      "3\n",
      "18\n",
      "int32\n"
     ]
    }
   ],
   "source": [
    "#Multidimensional numpy arrays\n",
    "a_mul = np.array([[[1,2,3],\n",
    "                  [4,5,6],\n",
    "                  [7,5,9]],\n",
    "                  [[2,3,4],\n",
    "                   [6,8,3],\n",
    "                   [4,5,7]]])\n",
    "a_mul\n",
    "print(a_mul.shape)\n",
    "print(a_mul.ndim) #count the '['\n",
    "print(a_mul.size) #tot elements\n",
    "print(a_mul.dtype)"
   ]
  },
  {
   "cell_type": "code",
   "execution_count": 26,
   "metadata": {},
   "outputs": [
    {
     "name": "stdout",
     "output_type": "stream",
     "text": [
      "<U11\n",
      "<class 'numpy.str_'>\n",
      "<U1\n"
     ]
    }
   ],
   "source": [
    "#static type\n",
    "a = np.array([[1,3,4,],\n",
    "              [4,'ciao',6],\n",
    "              [4,7,5]])\n",
    "print(a.dtype) #String with less or eq than 11 elementes, no more int 32\n",
    "print(type(a[0][0])) #It was an integer but nown is a string\n",
    "print(a[0][0].dtype)"
   ]
  },
  {
   "cell_type": "code",
   "execution_count": 31,
   "metadata": {},
   "outputs": [
    {
     "name": "stdout",
     "output_type": "stream",
     "text": [
      "int32\n",
      "<class 'numpy.int32'>\n",
      "int32\n",
      "<class 'numpy.int32'>\n"
     ]
    }
   ],
   "source": [
    "#But if we do it like this\n",
    "a = np.array([[1,3,4,],\n",
    "              [4,'5',6],\n",
    "              [4,7,5]], dtype=np.int32)\n",
    "print(a.dtype) # int 32 again\n",
    "print(type(a[0][0])) \n",
    "print(a[0][0].dtype) #thank to explicit dtype\n",
    "print(type(a[1][1])) # the \"5\""
   ]
  },
  {
   "cell_type": "code",
   "execution_count": 37,
   "metadata": {},
   "outputs": [
    {
     "name": "stdout",
     "output_type": "stream",
     "text": [
      "<class 'numpy.ndarray'>\n",
      "object\n",
      "{'1', 'A'}\n"
     ]
    }
   ],
   "source": [
    "#Dictionary\n",
    "d = {'1','A'}\n",
    "\n",
    "a= np.array([d])\n",
    "print(type(a))\n",
    "print(a.dtype)\n",
    "print(a[0])"
   ]
  },
  {
   "cell_type": "code",
   "execution_count": 39,
   "metadata": {},
   "outputs": [
    {
     "name": "stdout",
     "output_type": "stream",
     "text": [
      "[[[9 9 9 9]\n",
      "  [9 9 9 9]\n",
      "  [9 9 9 9]]\n",
      "\n",
      " [[9 9 9 9]\n",
      "  [9 9 9 9]\n",
      "  [9 9 9 9]]]\n"
     ]
    }
   ],
   "source": [
    "#Array with default values\n",
    "a = np.full((2,3,4),9) #shape, values\n",
    "print(a)"
   ]
  },
  {
   "cell_type": "code",
   "execution_count": 41,
   "metadata": {},
   "outputs": [
    {
     "data": {
      "text/plain": [
       "array([[[0., 0.],\n",
       "        [0., 0.],\n",
       "        [0., 0.],\n",
       "        [0., 0.],\n",
       "        [0., 0.]],\n",
       "\n",
       "       [[0., 0.],\n",
       "        [0., 0.],\n",
       "        [0., 0.],\n",
       "        [0., 0.],\n",
       "        [0., 0.]],\n",
       "\n",
       "       [[0., 0.],\n",
       "        [0., 0.],\n",
       "        [0., 0.],\n",
       "        [0., 0.],\n",
       "        [0., 0.]],\n",
       "\n",
       "       [[0., 0.],\n",
       "        [0., 0.],\n",
       "        [0., 0.],\n",
       "        [0., 0.],\n",
       "        [0., 0.]],\n",
       "\n",
       "       [[0., 0.],\n",
       "        [0., 0.],\n",
       "        [0., 0.],\n",
       "        [0., 0.],\n",
       "        [0., 0.]],\n",
       "\n",
       "       [[0., 0.],\n",
       "        [0., 0.],\n",
       "        [0., 0.],\n",
       "        [0., 0.],\n",
       "        [0., 0.]],\n",
       "\n",
       "       [[0., 0.],\n",
       "        [0., 0.],\n",
       "        [0., 0.],\n",
       "        [0., 0.],\n",
       "        [0., 0.]],\n",
       "\n",
       "       [[0., 0.],\n",
       "        [0., 0.],\n",
       "        [0., 0.],\n",
       "        [0., 0.],\n",
       "        [0., 0.]],\n",
       "\n",
       "       [[0., 0.],\n",
       "        [0., 0.],\n",
       "        [0., 0.],\n",
       "        [0., 0.],\n",
       "        [0., 0.]],\n",
       "\n",
       "       [[0., 0.],\n",
       "        [0., 0.],\n",
       "        [0., 0.],\n",
       "        [0., 0.],\n",
       "        [0., 0.]]])"
      ]
     },
     "execution_count": 41,
     "metadata": {},
     "output_type": "execute_result"
    }
   ],
   "source": [
    "a = np.zeros((10,5,2))\n",
    "a"
   ]
  },
  {
   "cell_type": "code",
   "execution_count": 50,
   "metadata": {},
   "outputs": [
    {
     "name": "stdout",
     "output_type": "stream",
     "text": [
      "[[[1. 1. 1.]\n",
      "  [1. 1. 1.]\n",
      "  [1. 1. 1.]]]\n"
     ]
    }
   ],
   "source": [
    "print(np.ones((1,3,3)))"
   ]
  },
  {
   "cell_type": "code",
   "execution_count": 52,
   "metadata": {},
   "outputs": [
    {
     "name": "stdout",
     "output_type": "stream",
     "text": [
      "[[[4607182418800017408 4607182418800017408 4607182418800017408]\n",
      "  [4607182418800017408 4607182418800017408 4607182418800017408]]]\n"
     ]
    }
   ],
   "source": [
    "print(np.empty((1,2,3), dtype=np.int64)) #empy reserves the space in disk "
   ]
  },
  {
   "cell_type": "code",
   "execution_count": 59,
   "metadata": {},
   "outputs": [
    {
     "data": {
      "text/plain": [
       "array([ 1. ,  3.5,  6. ,  8.5, 11. , 13.5, 16. , 18.5, 21. , 23.5, 26. ,\n",
       "       28.5, 31. , 33.5, 36. , 38.5, 41. , 43.5, 46. , 48.5, 51. , 53.5,\n",
       "       56. , 58.5, 61. , 63.5, 66. , 68.5, 71. , 73.5, 76. , 78.5, 81. ,\n",
       "       83.5, 86. , 88.5, 91. , 93.5, 96. , 98.5])"
      ]
     },
     "execution_count": 59,
     "metadata": {},
     "output_type": "execute_result"
    }
   ],
   "source": [
    "#Generate sequences maybe some x and u values to plot\n",
    "X_values = np.arange(1,100,2.5)\n",
    "X_values\n"
   ]
  },
  {
   "cell_type": "code",
   "execution_count": 63,
   "metadata": {},
   "outputs": [
    {
     "data": {
      "text/plain": [
       "array([  1.,   2.,   3.,   4.,   5.,   6.,   7.,   8.,   9.,  10.,  11.,\n",
       "        12.,  13.,  14.,  15.,  16.,  17.,  18.,  19.,  20.,  21.,  22.,\n",
       "        23.,  24.,  25.,  26.,  27.,  28.,  29.,  30.,  31.,  32.,  33.,\n",
       "        34.,  35.,  36.,  37.,  38.,  39.,  40.,  41.,  42.,  43.,  44.,\n",
       "        45.,  46.,  47.,  48.,  49.,  50.,  51.,  52.,  53.,  54.,  55.,\n",
       "        56.,  57.,  58.,  59.,  60.,  61.,  62.,  63.,  64.,  65.,  66.,\n",
       "        67.,  68.,  69.,  70.,  71.,  72.,  73.,  74.,  75.,  76.,  77.,\n",
       "        78.,  79.,  80.,  81.,  82.,  83.,  84.,  85.,  86.,  87.,  88.,\n",
       "        89.,  90.,  91.,  92.,  93.,  94.,  95.,  96.,  97.,  98.,  99.,\n",
       "       100.])"
      ]
     },
     "execution_count": 63,
     "metadata": {},
     "output_type": "execute_result"
    }
   ],
   "source": [
    "X_values = np.linspace(1,100,100)\n",
    "X_values"
   ]
  },
  {
   "cell_type": "code",
   "execution_count": null,
   "metadata": {},
   "outputs": [
    {
     "name": "stdout",
     "output_type": "stream",
     "text": [
      "nan\n",
      "inf\n",
      "True\n",
      "True\n",
      "False\n"
     ]
    }
   ],
   "source": [
    "#NaN and inf, useful for data science and dataset inspection\n",
    "print(np.nan)\n",
    "print(np.inf)\n",
    " \n",
    "print(np.isnan(np.nan))\n",
    "print(np.isinf(np.inf))\n",
    "\n",
    "print(np.isnan(np.sqrt(1)))"
   ]
  },
  {
   "cell_type": "markdown",
   "metadata": {},
   "source": [
    "Data Science "
   ]
  },
  {
   "cell_type": "code",
   "execution_count": 7,
   "metadata": {},
   "outputs": [
    {
     "data": {
      "text/plain": [
       "array([[0.54640063, 0.88411925, 0.12081095, 0.05870876, 0.57539289],\n",
       "       [0.42478701, 0.73379919, 0.62830829, 0.09787451, 0.49991487],\n",
       "       [0.2780479 , 0.2448769 , 0.9893617 , 0.86753948, 0.38706403],\n",
       "       [0.32574378, 0.34744465, 0.30997701, 0.34433851, 0.9658214 ]])"
      ]
     },
     "execution_count": 7,
     "metadata": {},
     "output_type": "execute_result"
    }
   ],
   "source": [
    "#Random function\n",
    "a = np.random.random((4,5)) #NN weights for example\n",
    "a"
   ]
  },
  {
   "cell_type": "code",
   "execution_count": null,
   "metadata": {},
   "outputs": [
    {
     "data": {
      "text/plain": [
       "4"
      ]
     },
     "execution_count": 9,
     "metadata": {},
     "output_type": "execute_result"
    }
   ],
   "source": [
    "#Range functions\n",
    "a = np.array((2,3))"
   ]
  },
  {
   "cell_type": "code",
   "execution_count": null,
   "metadata": {},
   "outputs": [
    {
     "name": "stdout",
     "output_type": "stream",
     "text": [
      "C [[[10 10 10]\n",
      "  [10 10 10]\n",
      "  [10 10 10]]\n",
      "\n",
      " [[10 10 10]\n",
      "  [10 10 10]\n",
      "  [10 10 10]]\n",
      "\n",
      " [[11 11 11]\n",
      "  [11 11 11]\n",
      "  [11 11 11]]\n",
      "\n",
      " [[11 11 11]\n",
      "  [11 11 11]\n",
      "  [11 11 11]]]\n",
      "\n",
      "C2 [[[[10 10 10]\n",
      "   [10 10 10]\n",
      "   [10 10 10]]\n",
      "\n",
      "  [[10 10 10]\n",
      "   [10 10 10]\n",
      "   [10 10 10]]]\n",
      "\n",
      "\n",
      " [[[11 11 11]\n",
      "   [11 11 11]\n",
      "   [11 11 11]]\n",
      "\n",
      "  [[11 11 11]\n",
      "   [11 11 11]\n",
      "   [11 11 11]]]]\n"
     ]
    }
   ],
   "source": [
    "#Join arrays\n",
    "a=np.full((2,3,3),10)\n",
    "b=np.full((2,3,3),11)\n",
    "\n",
    "c=np.concatenate((a,b)) #They are stacked\n",
    "print(\"C\",c)\n",
    "\n",
    "c2=np.stack((a,b))#another dimension created\n",
    "print(\"\\nC2\",c2)\n"
   ]
  },
  {
   "cell_type": "code",
   "execution_count": 33,
   "metadata": {},
   "outputs": [
    {
     "name": "stdout",
     "output_type": "stream",
     "text": [
      "c3 [[[10 10 10]\n",
      "  [10 10 10]\n",
      "  [10 10 10]\n",
      "  [11 11 11]\n",
      "  [11 11 11]\n",
      "  [11 11 11]]\n",
      "\n",
      " [[10 10 10]\n",
      "  [10 10 10]\n",
      "  [10 10 10]\n",
      "  [11 11 11]\n",
      "  [11 11 11]\n",
      "  [11 11 11]]]\n",
      "c4 [[[10 10 10]\n",
      "  [10 10 10]\n",
      "  [10 10 10]]\n",
      "\n",
      " [[10 10 10]\n",
      "  [10 10 10]\n",
      "  [10 10 10]]\n",
      "\n",
      " [[11 11 11]\n",
      "  [11 11 11]\n",
      "  [11 11 11]]\n",
      "\n",
      " [[11 11 11]\n",
      "  [11 11 11]\n",
      "  [11 11 11]]]\n"
     ]
    }
   ],
   "source": [
    "\n",
    "#hstack and vstack\n",
    "\n",
    "c3=np.hstack((a,b))\n",
    "c4=np.vstack((a,b))\n",
    "print(\"c3\", c3)\n",
    "print(\"c4\",c4)"
   ]
  },
  {
   "cell_type": "code",
   "execution_count": null,
   "metadata": {},
   "outputs": [
    {
     "name": "stdout",
     "output_type": "stream",
     "text": [
      "[[[1 1 1]\n",
      "  [1 1 1]\n",
      "  [1 1 1]]\n",
      "\n",
      " [[1 1 1]\n",
      "  [1 1 1]\n",
      "  [1 1 1]]]\n",
      "[array([[[1, 1, 1],\n",
      "        [1, 1, 1],\n",
      "        [1, 1, 1]]]), array([[[1, 1, 1],\n",
      "        [1, 1, 1],\n",
      "        [1, 1, 1]]])]\n"
     ]
    }
   ],
   "source": [
    "#Split arrays based on rows\n",
    "v=np.full((2,3,3),1)\n",
    "print(v)\n",
    "print(np.split(v,2))\n",
    "#also np.hsplit(v,2)"
   ]
  },
  {
   "cell_type": "code",
   "execution_count": null,
   "metadata": {},
   "outputs": [
    {
     "name": "stdout",
     "output_type": "stream",
     "text": [
      "C [[1 2 3]\n",
      " [3 4 5]\n",
      " [8 6 5]\n",
      " [1 1 1]]\n",
      "D [[1 2 3]\n",
      " [3 4 5]\n",
      " [1 1 1]\n",
      " [8 6 5]]\n"
     ]
    }
   ],
   "source": [
    "#Adding lists with append\n",
    "a=np.array([\n",
    "    [1,2,3],\n",
    "    [3,4,5],\n",
    "    [8,6,5]\n",
    "])\n",
    "\n",
    "b=[1,1,1]\n",
    "\n",
    "c=np.append(a,[b],axis=0) #axis 0 for rows\n",
    "print(\"C\",c)\n",
    "\n",
    "d=np.insert(a,2,b, axis=0) #2 is for the index, axis 0 for x axis\n",
    "print(\"D\",d)"
   ]
  },
  {
   "cell_type": "markdown",
   "metadata": {},
   "source": [
    "Pandas"
   ]
  },
  {
   "cell_type": "code",
   "execution_count": 60,
   "metadata": {},
   "outputs": [
    {
     "name": "stdout",
     "output_type": "stream",
     "text": [
      "3\n",
      "4\n",
      "A    1\n",
      "B    2\n",
      "C    3\n",
      "D    4\n",
      "Name: MySeries, dtype: int64\n"
     ]
    }
   ],
   "source": [
    "import pandas as pd \n",
    "import matplotlib.pyplot as plt\n",
    "\n",
    "#Pandas is built on top of numpy, we plot with pandas but show with plt\n",
    "#Create a Series\n",
    "\n",
    "series = pd.Series([1,2,3,4],['A','B','C','D'])\n",
    "\n",
    "print(series['C'])\n",
    "print(series.iloc[3])\n",
    "\n",
    "series.name=\"MySeries\"\n",
    "print(series)"
   ]
  },
  {
   "cell_type": "code",
   "execution_count": 61,
   "metadata": {},
   "outputs": [
    {
     "name": "stdout",
     "output_type": "stream",
     "text": [
      "{'A': 1, 'B': 2, 'C': 3, 'D': 4}\n"
     ]
    }
   ],
   "source": [
    "print(dict(series))"
   ]
  },
  {
   "cell_type": "code",
   "execution_count": 66,
   "metadata": {},
   "outputs": [
    {
     "name": "stdout",
     "output_type": "stream",
     "text": [
      "a     8\n",
      "b    10\n",
      "c    12\n",
      "d     6\n",
      "dtype: int64\n",
      "<bound method Series.count of a    1\n",
      "b    2\n",
      "c    3\n",
      "d    4\n",
      "dtype: int64>\n",
      "a    1\n",
      "b    2\n",
      "dtype: int64 c    3\n",
      "d    4\n",
      "dtype: int64\n"
     ]
    }
   ],
   "source": [
    "s1 = pd.Series([1,2,3,4],['a','b','c','d'])\n",
    "s2 = pd.Series([7,8,9,2],['a','b','c','d'])\n",
    "print(s1+s2) #Element-wise addition, even if the order is different\n",
    "print(s1.count)\n",
    "print(s1.head(2), s1.tail(2))"
   ]
  },
  {
   "cell_type": "code",
   "execution_count": 67,
   "metadata": {},
   "outputs": [
    {
     "name": "stdout",
     "output_type": "stream",
     "text": [
      "a     1\n",
      "b     4\n",
      "c     9\n",
      "d    16\n",
      "dtype: int64\n"
     ]
    }
   ],
   "source": [
    "#Apply functions to all the values in a series\n",
    "def mysquare(x):\n",
    "    return x**2\n",
    "\n",
    "print(s1.apply(mysquare))"
   ]
  },
  {
   "cell_type": "code",
   "execution_count": 68,
   "metadata": {},
   "outputs": [
    {
     "name": "stdout",
     "output_type": "stream",
     "text": [
      "<bound method Series.sort_values of a    1\n",
      "b    2\n",
      "c    3\n",
      "d    4\n",
      "dtype: int64>\n"
     ]
    }
   ],
   "source": [
    "#Sorting\n",
    "print(s1.sort_values)"
   ]
  },
  {
   "cell_type": "code",
   "execution_count": 69,
   "metadata": {},
   "outputs": [
    {
     "name": "stdout",
     "output_type": "stream",
     "text": [
      "d    2\n",
      "a    7\n",
      "b    8\n",
      "c    9\n",
      "dtype: int64\n"
     ]
    }
   ],
   "source": [
    "#When we call a series, returns a copy of the actual collection because the original series is unchanged\n",
    "#To change the series:\n",
    "s2.sort_values(inplace=True)\n",
    "print(s2)"
   ]
  },
  {
   "cell_type": "code",
   "execution_count": 76,
   "metadata": {},
   "outputs": [
    {
     "data": {
      "image/png": "[encoded data removed]",
      "text/plain": [
       "<Figure size 640x480 with 1 Axes>"
      ]
     },
     "metadata": {},
     "output_type": "display_data"
    }
   ],
   "source": [
    "#Visualize the data\n",
    "s3 = pd.Series([1,132,3,54,8,32,76,423,132],[1,2,3,4,5,6,7,8,9])\n",
    "s3.plot()\n",
    "plt.show()\n"
   ]
  },
  {
   "cell_type": "code",
   "execution_count": 79,
   "metadata": {},
   "outputs": [
    {
     "data": {
      "text/plain": [
       "<Axes: >"
      ]
     },
     "execution_count": 79,
     "metadata": {},
     "output_type": "execute_result"
    },
    {
     "data": {
      "image/png": "[encoded data removed]",
      "text/plain": [
       "<Figure size 640x480 with 1 Axes>"
      ]
     },
     "metadata": {},
     "output_type": "display_data"
    }
   ],
   "source": [
    "s3.plot.pie() #pandas graphic is basic, we use matplotlib to build more complex graphs"
   ]
  },
  {
   "cell_type": "code",
   "execution_count": 83,
   "metadata": {},
   "outputs": [],
   "source": [
    "#We can bring the series to another export\n",
    "s3.to_csv(\"myseries.csv\")"
   ]
  },
  {
   "cell_type": "code",
   "execution_count": 87,
   "metadata": {},
   "outputs": [
    {
     "data": {
      "text/html": [
       "<div>\n",
       "<style scoped>\n",
       "    .dataframe tbody tr th:only-of-type {\n",
       "        vertical-align: middle;\n",
       "    }\n",
       "\n",
       "    .dataframe tbody tr th {\n",
       "        vertical-align: top;\n",
       "    }\n",
       "\n",
       "    .dataframe thead th {\n",
       "        text-align: right;\n",
       "    }\n",
       "</style>\n",
       "<table border=\"1\" class=\"dataframe\">\n",
       "  <thead>\n",
       "    <tr style=\"text-align: right;\">\n",
       "      <th></th>\n",
       "      <th>Name</th>\n",
       "      <th>Age</th>\n",
       "      <th>Height</th>\n",
       "      <th>Gender</th>\n",
       "    </tr>\n",
       "    <tr>\n",
       "      <th>SSN</th>\n",
       "      <th></th>\n",
       "      <th></th>\n",
       "      <th></th>\n",
       "      <th></th>\n",
       "    </tr>\n",
       "  </thead>\n",
       "  <tbody>\n",
       "    <tr>\n",
       "      <th>123</th>\n",
       "      <td>A</td>\n",
       "      <td>23</td>\n",
       "      <td>178</td>\n",
       "      <td>f</td>\n",
       "    </tr>\n",
       "    <tr>\n",
       "      <th>432</th>\n",
       "      <td>B</td>\n",
       "      <td>24</td>\n",
       "      <td>156</td>\n",
       "      <td>m</td>\n",
       "    </tr>\n",
       "    <tr>\n",
       "      <th>653</th>\n",
       "      <td>C</td>\n",
       "      <td>46</td>\n",
       "      <td>186</td>\n",
       "      <td>f</td>\n",
       "    </tr>\n",
       "    <tr>\n",
       "      <th>234</th>\n",
       "      <td>D</td>\n",
       "      <td>29</td>\n",
       "      <td>169</td>\n",
       "      <td>m</td>\n",
       "    </tr>\n",
       "  </tbody>\n",
       "</table>\n",
       "</div>"
      ],
      "text/plain": [
       "    Name  Age  Height Gender\n",
       "SSN                         \n",
       "123    A   23     178      f\n",
       "432    B   24     156      m\n",
       "653    C   46     186      f\n",
       "234    D   29     169      m"
      ]
     },
     "execution_count": 87,
     "metadata": {},
     "output_type": "execute_result"
    }
   ],
   "source": [
    "#Dataframes are most used\n",
    "data = {\n",
    "    'SSN': [123,432,653,234],\n",
    "    'Name': ['A','B','C','D'],\n",
    "    'Age': [23,24,46,29],\n",
    "    'Height':[178,156,186,169],\n",
    "    'Gender': ['f','m','f','m']\n",
    "}\n",
    "#To converti this dictionary to a dataframe we use:\n",
    "#Make the SSN the index column\n",
    "df = pd.DataFrame(data)\n",
    "df.set_index('SSN', inplace=True)\n",
    "df"
   ]
  },
  {
   "cell_type": "code",
   "execution_count": null,
   "metadata": {},
   "outputs": [
    {
     "name": "stdout",
     "output_type": "stream",
     "text": [
      "Head:\n",
      "    Name  Age  Height Gender\n",
      "SSN                         \n",
      "123    A   23     178      f\n",
      "432    B   24     156      m\n",
      "653    C   46     186      f\n",
      "234    D   29     169      m\n",
      "2 (4, 4)\n",
      "16\n",
      "Name      object\n",
      "Age        int64\n",
      "Height     int64\n",
      "Gender    object\n",
      "dtype: object\n",
      "SSN     123  432  653  234\n",
      "Name      A    B    C    D\n",
      "Age      23   24   46   29\n",
      "Height  178  156  186  169\n",
      "Gender    f    m    f    m\n"
     ]
    }
   ],
   "source": [
    "#Attributes and funcions of dataframes\n",
    "print(f\"Head:\\n{df.head()}\")\n",
    "print(df.ndim, df.shape)\n",
    "print(df.size)\n",
    "print(df.dtypes)\n",
    "print(df.T)#Trandspose"
   ]
  },
  {
   "cell_type": "code",
   "execution_count": null,
   "metadata": {},
   "outputs": [
    {
     "name": "stdout",
     "output_type": "stream",
     "text": [
      "B\n",
      "Name        B\n",
      "Age        24\n",
      "Height    156\n",
      "Gender      m\n",
      "Name: 432, dtype: object\n",
      "Slice\n",
      "     Name  Age  Height Gender\n",
      "SSN                         \n",
      "123    A   23     178      f\n",
      "432    B   24     156      m\n"
     ]
    }
   ],
   "source": [
    "#Access individual values of the df, use the iloc iterator (integere locatio)\n",
    "print(df['Name'].iloc[1]) #In column name select the second name\n",
    "print(df.iloc[1])\n",
    "print(\"Slice\\n\",df.iloc[0:2]) #For range of rows"
   ]
  },
  {
   "cell_type": "code",
   "execution_count": 112,
   "metadata": {},
   "outputs": [
    {
     "data": {
      "image/png": "[encoded data removed]",
      "text/plain": [
       "<Figure size 640x480 with 1 Axes>"
      ]
     },
     "metadata": {},
     "output_type": "display_data"
    },
    {
     "data": {
      "image/png": "[encoded data removed]",
      "text/plain": [
       "<Figure size 640x480 with 1 Axes>"
      ]
     },
     "metadata": {},
     "output_type": "display_data"
    }
   ],
   "source": [
    "#PLot dataframe\n",
    "df.plot.hist() #PLots numerica values without the categorical one automatically\n",
    "df.plot.bar()\n",
    "plt.show()"
   ]
  },
  {
   "cell_type": "code",
   "execution_count": 113,
   "metadata": {},
   "outputs": [
    {
     "data": {
      "text/plain": [
       "SSN\n",
       "123    A\n",
       "432    B\n",
       "653    C\n",
       "234    D\n",
       "Name: Name, dtype: object"
      ]
     },
     "execution_count": 113,
     "metadata": {},
     "output_type": "execute_result"
    }
   ],
   "source": [
    "df.Name"
   ]
  },
  {
   "cell_type": "code",
   "execution_count": 114,
   "metadata": {},
   "outputs": [
    {
     "data": {
      "text/plain": [
       "<Axes: >"
      ]
     },
     "execution_count": 114,
     "metadata": {},
     "output_type": "execute_result"
    },
    {
     "data": {
      "image/png": "[encoded data removed]",
      "text/plain": [
       "<Figure size 640x480 with 1 Axes>"
      ]
     },
     "metadata": {},
     "output_type": "display_data"
    }
   ],
   "source": [
    "df.Age.hist()"
   ]
  },
  {
   "cell_type": "code",
   "execution_count": 117,
   "metadata": {},
   "outputs": [
    {
     "name": "stdout",
     "output_type": "stream",
     "text": [
      "Name      4\n",
      "Age       4\n",
      "Height    4\n",
      "Gender    4\n",
      "dtype: int64\n",
      "4\n"
     ]
    }
   ],
   "source": [
    "#Statistics with pandas and dataframes\n",
    "print(df.count()) #Amount of elements per column\n",
    "print(df['Age'].count())"
   ]
  },
  {
   "cell_type": "code",
   "execution_count": 119,
   "metadata": {},
   "outputs": [
    {
     "name": "stdout",
     "output_type": "stream",
     "text": [
      "122\n",
      "Name      ABCD\n",
      "Age        122\n",
      "Height     689\n",
      "Gender    fmfm\n",
      "dtype: object\n"
     ]
    }
   ],
   "source": [
    "print(df['Age'].sum())\n",
    "print(df.sum())"
   ]
  },
  {
   "cell_type": "code",
   "execution_count": 121,
   "metadata": {},
   "outputs": [
    {
     "name": "stdout",
     "output_type": "stream",
     "text": [
      "736368\n"
     ]
    }
   ],
   "source": [
    "print(df['Age'].prod())"
   ]
  },
  {
   "cell_type": "code",
   "execution_count": null,
   "metadata": {},
   "outputs": [
    {
     "data": {
      "text/plain": [
       "(172.25, 173.5)"
      ]
     },
     "execution_count": 123,
     "metadata": {},
     "output_type": "execute_result"
    }
   ],
   "source": [
    "df['Height'].mean(), df['Height'].median() "
   ]
  },
  {
   "cell_type": "code",
   "execution_count": 124,
   "metadata": {},
   "outputs": [
    {
     "data": {
      "text/plain": [
       "12.86791876463841"
      ]
     },
     "execution_count": 124,
     "metadata": {},
     "output_type": "execute_result"
    }
   ],
   "source": [
    "df['Height'].std()"
   ]
  },
  {
   "cell_type": "code",
   "execution_count": null,
   "metadata": {},
   "outputs": [
    {
     "data": {
      "text/html": [
       "<div>\n",
       "<style scoped>\n",
       "    .dataframe tbody tr th:only-of-type {\n",
       "        vertical-align: middle;\n",
       "    }\n",
       "\n",
       "    .dataframe tbody tr th {\n",
       "        vertical-align: top;\n",
       "    }\n",
       "\n",
       "    .dataframe thead th {\n",
       "        text-align: right;\n",
       "    }\n",
       "</style>\n",
       "<table border=\"1\" class=\"dataframe\">\n",
       "  <thead>\n",
       "    <tr style=\"text-align: right;\">\n",
       "      <th></th>\n",
       "      <th>Age</th>\n",
       "      <th>Height</th>\n",
       "    </tr>\n",
       "  </thead>\n",
       "  <tbody>\n",
       "    <tr>\n",
       "      <th>count</th>\n",
       "      <td>4.000000</td>\n",
       "      <td>4.000000</td>\n",
       "    </tr>\n",
       "    <tr>\n",
       "      <th>mean</th>\n",
       "      <td>30.500000</td>\n",
       "      <td>172.250000</td>\n",
       "    </tr>\n",
       "    <tr>\n",
       "      <th>std</th>\n",
       "      <td>10.661457</td>\n",
       "      <td>12.867919</td>\n",
       "    </tr>\n",
       "    <tr>\n",
       "      <th>min</th>\n",
       "      <td>23.000000</td>\n",
       "      <td>156.000000</td>\n",
       "    </tr>\n",
       "    <tr>\n",
       "      <th>25%</th>\n",
       "      <td>23.750000</td>\n",
       "      <td>165.750000</td>\n",
       "    </tr>\n",
       "    <tr>\n",
       "      <th>50%</th>\n",
       "      <td>26.500000</td>\n",
       "      <td>173.500000</td>\n",
       "    </tr>\n",
       "    <tr>\n",
       "      <th>75%</th>\n",
       "      <td>33.250000</td>\n",
       "      <td>180.000000</td>\n",
       "    </tr>\n",
       "    <tr>\n",
       "      <th>max</th>\n",
       "      <td>46.000000</td>\n",
       "      <td>186.000000</td>\n",
       "    </tr>\n",
       "  </tbody>\n",
       "</table>\n",
       "</div>"
      ],
      "text/plain": [
       "             Age      Height\n",
       "count   4.000000    4.000000\n",
       "mean   30.500000  172.250000\n",
       "std    10.661457   12.867919\n",
       "min    23.000000  156.000000\n",
       "25%    23.750000  165.750000\n",
       "50%    26.500000  173.500000\n",
       "75%    33.250000  180.000000\n",
       "max    46.000000  186.000000"
      ]
     },
     "execution_count": 125,
     "metadata": {},
     "output_type": "execute_result"
    }
   ],
   "source": [
    "df.describe() #Only takes numerical values"
   ]
  },
  {
   "cell_type": "code",
   "execution_count": 130,
   "metadata": {},
   "outputs": [
    {
     "name": "stdout",
     "output_type": "stream",
     "text": [
      "SSN\n",
      "123    13.341664\n",
      "432    12.489996\n",
      "653    13.638182\n",
      "234    13.000000\n",
      "Name: Height, dtype: float64\n",
      "SSN\n",
      "123    1\n",
      "432    0\n",
      "653    1\n",
      "234    0\n",
      "Name: Height, dtype: int64\n",
      "SSN\n",
      "123    31684\n",
      "432    24336\n",
      "653    34596\n",
      "234    28561\n",
      "Name: Height, dtype: int64\n"
     ]
    }
   ],
   "source": [
    "#Sorting and functions\n",
    "print(df['Height'].apply(np.sqrt))\n",
    "\n",
    "#With lambda expressions\n",
    "print(df['Height'].apply(lambda x: 1 if x>170 else 0))\n",
    "print(df['Height'].apply(lambda x: x**2))\n"
   ]
  },
  {
   "cell_type": "code",
   "execution_count": 132,
   "metadata": {},
   "outputs": [
    {
     "name": "stdout",
     "output_type": "stream",
     "text": [
      "23\n",
      "24\n",
      "46\n",
      "29\n"
     ]
    }
   ],
   "source": [
    "#Different ways to iterate a df\n",
    "for x in df['Age']:\n",
    "    print(x)"
   ]
  },
  {
   "cell_type": "code",
   "execution_count": 140,
   "metadata": {},
   "outputs": [
    {
     "name": "stdout",
     "output_type": "stream",
     "text": [
      "Name:SSN\n",
      "123    A\n",
      "432    B\n",
      "653    C\n",
      "234    D\n",
      "Name: Name, dtype: object\n",
      "Age:SSN\n",
      "123    23\n",
      "432    24\n",
      "653    46\n",
      "234    29\n",
      "Name: Age, dtype: int64\n",
      "Height:SSN\n",
      "123    178\n",
      "432    156\n",
      "653    186\n",
      "234    169\n",
      "Name: Height, dtype: int64\n",
      "Gender:SSN\n",
      "123    f\n",
      "432    m\n",
      "653    f\n",
      "234    m\n",
      "Name: Gender, dtype: object\n"
     ]
    }
   ],
   "source": [
    "#In a more professional way\n",
    "for key,value in df.items():\n",
    "    print(\"{}:{}\".format(key,value))"
   ]
  },
  {
   "cell_type": "code",
   "execution_count": 142,
   "metadata": {},
   "outputs": [
    {
     "name": "stdout",
     "output_type": "stream",
     "text": [
      "(123, Name        A\n",
      "Age        23\n",
      "Height    178\n",
      "Gender      f\n",
      "Name: 123, dtype: object)\n",
      "(432, Name        B\n",
      "Age        24\n",
      "Height    156\n",
      "Gender      m\n",
      "Name: 432, dtype: object)\n",
      "(653, Name        C\n",
      "Age        46\n",
      "Height    186\n",
      "Gender      f\n",
      "Name: 653, dtype: object)\n",
      "(234, Name        D\n",
      "Age        29\n",
      "Height    169\n",
      "Gender      m\n",
      "Name: 234, dtype: object)\n"
     ]
    }
   ],
   "source": [
    "#Over rows\n",
    "for row in df.iterrows():\n",
    "    print(row)"
   ]
  },
  {
   "cell_type": "code",
   "execution_count": 145,
   "metadata": {},
   "outputs": [
    {
     "name": "stdout",
     "output_type": "stream",
     "text": [
      "    Name  Age  Height Gender\n",
      "SSN                         \n",
      "123    A   23     178      f\n",
      "234    D   29     169      m\n",
      "432    B   24     156      m\n",
      "653    C   46     186      f\n",
      "SSN\n",
      "123    23\n",
      "432    24\n",
      "234    29\n",
      "653    46\n",
      "Name: Age, dtype: int64\n"
     ]
    }
   ],
   "source": [
    "#Sorting by index and values\n",
    "\n",
    "print(df.sort_index())\n",
    "print(df['Age'].sort_values())"
   ]
  },
  {
   "cell_type": "code",
   "execution_count": 151,
   "metadata": {},
   "outputs": [
    {
     "name": "stdout",
     "output_type": "stream",
     "text": [
      "    Name  Age  Height Gender\n",
      "SSN                         \n",
      "123    A   23     178      f\n",
      "432    B   24     156      m\n",
      "653    C   46     186      f\n",
      "234    D   29     169      m\n"
     ]
    }
   ],
   "source": [
    "print(df.sort_values(by=['Name']))"
   ]
  },
  {
   "cell_type": "code",
   "execution_count": 153,
   "metadata": {},
   "outputs": [
    {
     "data": {
      "text/plain": [
       "(   SSN  Name\n",
       " 0  123  Abba\n",
       " 1  432   Baa\n",
       " 2  653   Cae\n",
       " 3  234   Duy,\n",
       "    SSN  Age\n",
       " 0  123   23\n",
       " 1  432   24\n",
       " 2  555   46\n",
       " 3  777   29)"
      ]
     },
     "execution_count": 153,
     "metadata": {},
     "output_type": "execute_result"
    }
   ],
   "source": [
    "#Merging df (like SQL tables)\n",
    "\n",
    "names = {\n",
    "    'SSN': [123,432,653,234],\n",
    "    'Name': ['Abba','Baa','Cae','Duy']\n",
    "}\n",
    "\n",
    "ages = {\n",
    "    'SSN': [123,432,555,777],\n",
    "    'Age': [23,24,46,29]\n",
    "}\n",
    "\n",
    "df1 = pd.DataFrame(names)\n",
    "df2 = pd.DataFrame(ages)\n",
    "df1,df2\n"
   ]
  },
  {
   "cell_type": "code",
   "execution_count": 156,
   "metadata": {},
   "outputs": [
    {
     "data": {
      "text/html": [
       "<div>\n",
       "<style scoped>\n",
       "    .dataframe tbody tr th:only-of-type {\n",
       "        vertical-align: middle;\n",
       "    }\n",
       "\n",
       "    .dataframe tbody tr th {\n",
       "        vertical-align: top;\n",
       "    }\n",
       "\n",
       "    .dataframe thead th {\n",
       "        text-align: right;\n",
       "    }\n",
       "</style>\n",
       "<table border=\"1\" class=\"dataframe\">\n",
       "  <thead>\n",
       "    <tr style=\"text-align: right;\">\n",
       "      <th></th>\n",
       "      <th>Name</th>\n",
       "      <th>Age</th>\n",
       "    </tr>\n",
       "    <tr>\n",
       "      <th>SSN</th>\n",
       "      <th></th>\n",
       "      <th></th>\n",
       "    </tr>\n",
       "  </thead>\n",
       "  <tbody>\n",
       "    <tr>\n",
       "      <th>123</th>\n",
       "      <td>Abba</td>\n",
       "      <td>23.0</td>\n",
       "    </tr>\n",
       "    <tr>\n",
       "      <th>234</th>\n",
       "      <td>Duy</td>\n",
       "      <td>NaN</td>\n",
       "    </tr>\n",
       "    <tr>\n",
       "      <th>432</th>\n",
       "      <td>Baa</td>\n",
       "      <td>24.0</td>\n",
       "    </tr>\n",
       "    <tr>\n",
       "      <th>555</th>\n",
       "      <td>NaN</td>\n",
       "      <td>46.0</td>\n",
       "    </tr>\n",
       "    <tr>\n",
       "      <th>653</th>\n",
       "      <td>Cae</td>\n",
       "      <td>NaN</td>\n",
       "    </tr>\n",
       "    <tr>\n",
       "      <th>777</th>\n",
       "      <td>NaN</td>\n",
       "      <td>29.0</td>\n",
       "    </tr>\n",
       "  </tbody>\n",
       "</table>\n",
       "</div>"
      ],
      "text/plain": [
       "     Name   Age\n",
       "SSN            \n",
       "123  Abba  23.0\n",
       "234   Duy   NaN\n",
       "432   Baa  24.0\n",
       "555   NaN  46.0\n",
       "653   Cae   NaN\n",
       "777   NaN  29.0"
      ]
     },
     "execution_count": 156,
     "metadata": {},
     "output_type": "execute_result"
    }
   ],
   "source": [
    "#Merge df1,df2. Outer takes all\n",
    "\n",
    "df = pd.merge(df1,df2, on='SSN', how='outer')\n",
    "df.set_index('SSN', inplace=True)\n",
    "df"
   ]
  },
  {
   "cell_type": "code",
   "execution_count": 159,
   "metadata": {},
   "outputs": [
    {
     "data": {
      "text/html": [
       "<div>\n",
       "<style scoped>\n",
       "    .dataframe tbody tr th:only-of-type {\n",
       "        vertical-align: middle;\n",
       "    }\n",
       "\n",
       "    .dataframe tbody tr th {\n",
       "        vertical-align: top;\n",
       "    }\n",
       "\n",
       "    .dataframe thead th {\n",
       "        text-align: right;\n",
       "    }\n",
       "</style>\n",
       "<table border=\"1\" class=\"dataframe\">\n",
       "  <thead>\n",
       "    <tr style=\"text-align: right;\">\n",
       "      <th></th>\n",
       "      <th>SSN</th>\n",
       "      <th>Name</th>\n",
       "      <th>Age</th>\n",
       "    </tr>\n",
       "  </thead>\n",
       "  <tbody>\n",
       "    <tr>\n",
       "      <th>0</th>\n",
       "      <td>123</td>\n",
       "      <td>Abba</td>\n",
       "      <td>23.0</td>\n",
       "    </tr>\n",
       "    <tr>\n",
       "      <th>1</th>\n",
       "      <td>432</td>\n",
       "      <td>Baa</td>\n",
       "      <td>24.0</td>\n",
       "    </tr>\n",
       "    <tr>\n",
       "      <th>2</th>\n",
       "      <td>653</td>\n",
       "      <td>Cae</td>\n",
       "      <td>NaN</td>\n",
       "    </tr>\n",
       "    <tr>\n",
       "      <th>3</th>\n",
       "      <td>234</td>\n",
       "      <td>Duy</td>\n",
       "      <td>NaN</td>\n",
       "    </tr>\n",
       "  </tbody>\n",
       "</table>\n",
       "</div>"
      ],
      "text/plain": [
       "   SSN  Name   Age\n",
       "0  123  Abba  23.0\n",
       "1  432   Baa  24.0\n",
       "2  653   Cae   NaN\n",
       "3  234   Duy   NaN"
      ]
     },
     "execution_count": 159,
     "metadata": {},
     "output_type": "execute_result"
    }
   ],
   "source": [
    "df = pd.merge(df1,df2, on='SSN', how='left')\n",
    "df"
   ]
  },
  {
   "cell_type": "code",
   "execution_count": 164,
   "metadata": {},
   "outputs": [
    {
     "data": {
      "text/html": [
       "<div>\n",
       "<style scoped>\n",
       "    .dataframe tbody tr th:only-of-type {\n",
       "        vertical-align: middle;\n",
       "    }\n",
       "\n",
       "    .dataframe tbody tr th {\n",
       "        vertical-align: top;\n",
       "    }\n",
       "\n",
       "    .dataframe thead th {\n",
       "        text-align: right;\n",
       "    }\n",
       "</style>\n",
       "<table border=\"1\" class=\"dataframe\">\n",
       "  <thead>\n",
       "    <tr style=\"text-align: right;\">\n",
       "      <th></th>\n",
       "      <th>Day</th>\n",
       "      <th>Month</th>\n",
       "      <th>Year</th>\n",
       "      <th>Customer_Age</th>\n",
       "      <th>Age_Group</th>\n",
       "      <th>Customer_Gender</th>\n",
       "      <th>Country</th>\n",
       "      <th>State</th>\n",
       "      <th>Product_Category</th>\n",
       "      <th>Sub_Category</th>\n",
       "      <th>Product</th>\n",
       "      <th>Order_Quantity</th>\n",
       "      <th>Unit_Cost</th>\n",
       "      <th>Unit_Price</th>\n",
       "      <th>Profit</th>\n",
       "      <th>Cost</th>\n",
       "      <th>Revenue</th>\n",
       "    </tr>\n",
       "    <tr>\n",
       "      <th>Date</th>\n",
       "      <th></th>\n",
       "      <th></th>\n",
       "      <th></th>\n",
       "      <th></th>\n",
       "      <th></th>\n",
       "      <th></th>\n",
       "      <th></th>\n",
       "      <th></th>\n",
       "      <th></th>\n",
       "      <th></th>\n",
       "      <th></th>\n",
       "      <th></th>\n",
       "      <th></th>\n",
       "      <th></th>\n",
       "      <th></th>\n",
       "      <th></th>\n",
       "      <th></th>\n",
       "    </tr>\n",
       "  </thead>\n",
       "  <tbody>\n",
       "    <tr>\n",
       "      <th>2013-11-26</th>\n",
       "      <td>26</td>\n",
       "      <td>November</td>\n",
       "      <td>2013</td>\n",
       "      <td>19</td>\n",
       "      <td>Youth (&lt;25)</td>\n",
       "      <td>M</td>\n",
       "      <td>Canada</td>\n",
       "      <td>British Columbia</td>\n",
       "      <td>Accessories</td>\n",
       "      <td>Bike Racks</td>\n",
       "      <td>Hitch Rack - 4-Bike</td>\n",
       "      <td>8</td>\n",
       "      <td>45</td>\n",
       "      <td>120</td>\n",
       "      <td>590</td>\n",
       "      <td>360</td>\n",
       "      <td>950</td>\n",
       "    </tr>\n",
       "    <tr>\n",
       "      <th>2015-11-26</th>\n",
       "      <td>26</td>\n",
       "      <td>November</td>\n",
       "      <td>2015</td>\n",
       "      <td>19</td>\n",
       "      <td>Youth (&lt;25)</td>\n",
       "      <td>M</td>\n",
       "      <td>Canada</td>\n",
       "      <td>British Columbia</td>\n",
       "      <td>Accessories</td>\n",
       "      <td>Bike Racks</td>\n",
       "      <td>Hitch Rack - 4-Bike</td>\n",
       "      <td>8</td>\n",
       "      <td>45</td>\n",
       "      <td>120</td>\n",
       "      <td>590</td>\n",
       "      <td>360</td>\n",
       "      <td>950</td>\n",
       "    </tr>\n",
       "    <tr>\n",
       "      <th>2014-03-23</th>\n",
       "      <td>23</td>\n",
       "      <td>March</td>\n",
       "      <td>2014</td>\n",
       "      <td>49</td>\n",
       "      <td>Adults (35-64)</td>\n",
       "      <td>M</td>\n",
       "      <td>Australia</td>\n",
       "      <td>New South Wales</td>\n",
       "      <td>Accessories</td>\n",
       "      <td>Bike Racks</td>\n",
       "      <td>Hitch Rack - 4-Bike</td>\n",
       "      <td>23</td>\n",
       "      <td>45</td>\n",
       "      <td>120</td>\n",
       "      <td>1366</td>\n",
       "      <td>1035</td>\n",
       "      <td>2401</td>\n",
       "    </tr>\n",
       "    <tr>\n",
       "      <th>2016-03-23</th>\n",
       "      <td>23</td>\n",
       "      <td>March</td>\n",
       "      <td>2016</td>\n",
       "      <td>49</td>\n",
       "      <td>Adults (35-64)</td>\n",
       "      <td>M</td>\n",
       "      <td>Australia</td>\n",
       "      <td>New South Wales</td>\n",
       "      <td>Accessories</td>\n",
       "      <td>Bike Racks</td>\n",
       "      <td>Hitch Rack - 4-Bike</td>\n",
       "      <td>20</td>\n",
       "      <td>45</td>\n",
       "      <td>120</td>\n",
       "      <td>1188</td>\n",
       "      <td>900</td>\n",
       "      <td>2088</td>\n",
       "    </tr>\n",
       "    <tr>\n",
       "      <th>2014-05-15</th>\n",
       "      <td>15</td>\n",
       "      <td>May</td>\n",
       "      <td>2014</td>\n",
       "      <td>47</td>\n",
       "      <td>Adults (35-64)</td>\n",
       "      <td>F</td>\n",
       "      <td>Australia</td>\n",
       "      <td>New South Wales</td>\n",
       "      <td>Accessories</td>\n",
       "      <td>Bike Racks</td>\n",
       "      <td>Hitch Rack - 4-Bike</td>\n",
       "      <td>4</td>\n",
       "      <td>45</td>\n",
       "      <td>120</td>\n",
       "      <td>238</td>\n",
       "      <td>180</td>\n",
       "      <td>418</td>\n",
       "    </tr>\n",
       "    <tr>\n",
       "      <th>...</th>\n",
       "      <td>...</td>\n",
       "      <td>...</td>\n",
       "      <td>...</td>\n",
       "      <td>...</td>\n",
       "      <td>...</td>\n",
       "      <td>...</td>\n",
       "      <td>...</td>\n",
       "      <td>...</td>\n",
       "      <td>...</td>\n",
       "      <td>...</td>\n",
       "      <td>...</td>\n",
       "      <td>...</td>\n",
       "      <td>...</td>\n",
       "      <td>...</td>\n",
       "      <td>...</td>\n",
       "      <td>...</td>\n",
       "      <td>...</td>\n",
       "    </tr>\n",
       "    <tr>\n",
       "      <th>2016-04-12</th>\n",
       "      <td>12</td>\n",
       "      <td>April</td>\n",
       "      <td>2016</td>\n",
       "      <td>41</td>\n",
       "      <td>Adults (35-64)</td>\n",
       "      <td>M</td>\n",
       "      <td>United Kingdom</td>\n",
       "      <td>England</td>\n",
       "      <td>Clothing</td>\n",
       "      <td>Vests</td>\n",
       "      <td>Classic Vest, S</td>\n",
       "      <td>3</td>\n",
       "      <td>24</td>\n",
       "      <td>64</td>\n",
       "      <td>112</td>\n",
       "      <td>72</td>\n",
       "      <td>184</td>\n",
       "    </tr>\n",
       "    <tr>\n",
       "      <th>2014-04-02</th>\n",
       "      <td>2</td>\n",
       "      <td>April</td>\n",
       "      <td>2014</td>\n",
       "      <td>18</td>\n",
       "      <td>Youth (&lt;25)</td>\n",
       "      <td>M</td>\n",
       "      <td>Australia</td>\n",
       "      <td>Queensland</td>\n",
       "      <td>Clothing</td>\n",
       "      <td>Vests</td>\n",
       "      <td>Classic Vest, M</td>\n",
       "      <td>22</td>\n",
       "      <td>24</td>\n",
       "      <td>64</td>\n",
       "      <td>655</td>\n",
       "      <td>528</td>\n",
       "      <td>1183</td>\n",
       "    </tr>\n",
       "    <tr>\n",
       "      <th>2016-04-02</th>\n",
       "      <td>2</td>\n",
       "      <td>April</td>\n",
       "      <td>2016</td>\n",
       "      <td>18</td>\n",
       "      <td>Youth (&lt;25)</td>\n",
       "      <td>M</td>\n",
       "      <td>Australia</td>\n",
       "      <td>Queensland</td>\n",
       "      <td>Clothing</td>\n",
       "      <td>Vests</td>\n",
       "      <td>Classic Vest, M</td>\n",
       "      <td>22</td>\n",
       "      <td>24</td>\n",
       "      <td>64</td>\n",
       "      <td>655</td>\n",
       "      <td>528</td>\n",
       "      <td>1183</td>\n",
       "    </tr>\n",
       "    <tr>\n",
       "      <th>2014-03-04</th>\n",
       "      <td>4</td>\n",
       "      <td>March</td>\n",
       "      <td>2014</td>\n",
       "      <td>37</td>\n",
       "      <td>Adults (35-64)</td>\n",
       "      <td>F</td>\n",
       "      <td>France</td>\n",
       "      <td>Seine (Paris)</td>\n",
       "      <td>Clothing</td>\n",
       "      <td>Vests</td>\n",
       "      <td>Classic Vest, L</td>\n",
       "      <td>24</td>\n",
       "      <td>24</td>\n",
       "      <td>64</td>\n",
       "      <td>684</td>\n",
       "      <td>576</td>\n",
       "      <td>1260</td>\n",
       "    </tr>\n",
       "    <tr>\n",
       "      <th>2016-03-04</th>\n",
       "      <td>4</td>\n",
       "      <td>March</td>\n",
       "      <td>2016</td>\n",
       "      <td>37</td>\n",
       "      <td>Adults (35-64)</td>\n",
       "      <td>F</td>\n",
       "      <td>France</td>\n",
       "      <td>Seine (Paris)</td>\n",
       "      <td>Clothing</td>\n",
       "      <td>Vests</td>\n",
       "      <td>Classic Vest, L</td>\n",
       "      <td>23</td>\n",
       "      <td>24</td>\n",
       "      <td>64</td>\n",
       "      <td>655</td>\n",
       "      <td>552</td>\n",
       "      <td>1207</td>\n",
       "    </tr>\n",
       "  </tbody>\n",
       "</table>\n",
       "<p>113036 rows × 17 columns</p>\n",
       "</div>"
      ],
      "text/plain": [
       "            Day     Month  Year  Customer_Age       Age_Group Customer_Gender  \\\n",
       "Date                                                                            \n",
       "2013-11-26   26  November  2013            19     Youth (<25)               M   \n",
       "2015-11-26   26  November  2015            19     Youth (<25)               M   \n",
       "2014-03-23   23     March  2014            49  Adults (35-64)               M   \n",
       "2016-03-23   23     March  2016            49  Adults (35-64)               M   \n",
       "2014-05-15   15       May  2014            47  Adults (35-64)               F   \n",
       "...         ...       ...   ...           ...             ...             ...   \n",
       "2016-04-12   12     April  2016            41  Adults (35-64)               M   \n",
       "2014-04-02    2     April  2014            18     Youth (<25)               M   \n",
       "2016-04-02    2     April  2016            18     Youth (<25)               M   \n",
       "2014-03-04    4     March  2014            37  Adults (35-64)               F   \n",
       "2016-03-04    4     March  2016            37  Adults (35-64)               F   \n",
       "\n",
       "                   Country             State Product_Category Sub_Category  \\\n",
       "Date                                                                         \n",
       "2013-11-26          Canada  British Columbia      Accessories   Bike Racks   \n",
       "2015-11-26          Canada  British Columbia      Accessories   Bike Racks   \n",
       "2014-03-23       Australia   New South Wales      Accessories   Bike Racks   \n",
       "2016-03-23       Australia   New South Wales      Accessories   Bike Racks   \n",
       "2014-05-15       Australia   New South Wales      Accessories   Bike Racks   \n",
       "...                    ...               ...              ...          ...   \n",
       "2016-04-12  United Kingdom           England         Clothing        Vests   \n",
       "2014-04-02       Australia        Queensland         Clothing        Vests   \n",
       "2016-04-02       Australia        Queensland         Clothing        Vests   \n",
       "2014-03-04          France     Seine (Paris)         Clothing        Vests   \n",
       "2016-03-04          France     Seine (Paris)         Clothing        Vests   \n",
       "\n",
       "                        Product  Order_Quantity  Unit_Cost  Unit_Price  \\\n",
       "Date                                                                     \n",
       "2013-11-26  Hitch Rack - 4-Bike               8         45         120   \n",
       "2015-11-26  Hitch Rack - 4-Bike               8         45         120   \n",
       "2014-03-23  Hitch Rack - 4-Bike              23         45         120   \n",
       "2016-03-23  Hitch Rack - 4-Bike              20         45         120   \n",
       "2014-05-15  Hitch Rack - 4-Bike               4         45         120   \n",
       "...                         ...             ...        ...         ...   \n",
       "2016-04-12      Classic Vest, S               3         24          64   \n",
       "2014-04-02      Classic Vest, M              22         24          64   \n",
       "2016-04-02      Classic Vest, M              22         24          64   \n",
       "2014-03-04      Classic Vest, L              24         24          64   \n",
       "2016-03-04      Classic Vest, L              23         24          64   \n",
       "\n",
       "            Profit  Cost  Revenue  \n",
       "Date                               \n",
       "2013-11-26     590   360      950  \n",
       "2015-11-26     590   360      950  \n",
       "2014-03-23    1366  1035     2401  \n",
       "2016-03-23    1188   900     2088  \n",
       "2014-05-15     238   180      418  \n",
       "...            ...   ...      ...  \n",
       "2016-04-12     112    72      184  \n",
       "2014-04-02     655   528     1183  \n",
       "2016-04-02     655   528     1183  \n",
       "2014-03-04     684   576     1260  \n",
       "2016-03-04     655   552     1207  \n",
       "\n",
       "[113036 rows x 17 columns]"
      ]
     },
     "execution_count": 164,
     "metadata": {},
     "output_type": "execute_result"
    }
   ],
   "source": [
    "#Pandas Queries\n",
    "# \"C:\\Users\\bacch\\Desktop\\sales_data.csv\"\n",
    "\n",
    "df = pd.read_csv(\"C:/Users/bacch/Desktop/sales_data.csv\") #can specify the delimiter like , or ;\n",
    "df.set_index('Date', inplace=True)\n",
    "df"
   ]
  },
  {
   "cell_type": "code",
   "execution_count": 170,
   "metadata": {},
   "outputs": [
    {
     "name": "stdout",
     "output_type": "stream",
     "text": [
      "Date\n",
      "2014-03-12          Adults (35-64)\n",
      "2016-03-12          Adults (35-64)\n",
      "2014-03-12          Adults (35-64)\n",
      "2016-03-12          Adults (35-64)\n",
      "2014-03-12          Adults (35-64)\n",
      "                      ...         \n",
      "2016-03-12             Youth (<25)\n",
      "2014-03-12    Young Adults (25-34)\n",
      "2016-03-12    Young Adults (25-34)\n",
      "2014-03-12          Adults (35-64)\n",
      "2016-03-12          Adults (35-64)\n",
      "Name: Age_Group, Length: 366, dtype: object\n"
     ]
    }
   ],
   "source": [
    "#Query like SQL\n",
    "print(df.loc[(df['Day'] == 12) & (df['Month'] == 'March')]['Age_Group'])"
   ]
  },
  {
   "cell_type": "code",
   "execution_count": null,
   "metadata": {},
   "outputs": [],
   "source": []
  }
 ],
 "metadata": {
  "kernelspec": {
   "display_name": "base",
   "language": "python",
   "name": "python3"
  },
  "language_info": {
   "codemirror_mode": {
    "name": "ipython",
    "version": 3
   },
   "file_extension": ".py",
   "mimetype": "text/x-python",
   "name": "python",
   "nbconvert_exporter": "python",
   "pygments_lexer": "ipython3",
   "version": "3.12.4"
  }
 },
 "nbformat": 4,
 "nbformat_minor": 2
}
